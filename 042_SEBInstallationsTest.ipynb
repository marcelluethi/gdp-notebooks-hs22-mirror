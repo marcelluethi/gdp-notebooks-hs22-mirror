{
 "cells": [
  {
   "cell_type": "markdown",
   "id": "ce0bfe7a",
   "metadata": {},
   "source": [
    "# Grundlagen der Programmierung  <br/> SEB Installations Test\n",
    "#### Marcel Lüthi, Andreas Morel-Forster <br/> Departement Mathematik und Informatik, Universität Basel"
   ]
  },
  {
   "cell_type": "markdown",
   "id": "2c677f86",
   "metadata": {},
   "source": [
    "Wenn Sie diese Zelle lesen können, dann haben Sie den Safe Exam Broser richtig installiert."
   ]
  },
  {
   "cell_type": "markdown",
   "id": "567b2636",
   "metadata": {},
   "source": [
    "###  SEB beenden\n",
    "\n",
    "Um den SEB zu beenden brauchen Sie ein Passwort. Für diese SEB sitzung ist es `gdp`."
   ]
  }
 ],
 "metadata": {
  "kernelspec": {
   "display_name": "Java",
   "language": "java",
   "name": "java"
  },
  "language_info": {
   "codemirror_mode": "java",
   "file_extension": ".jshell",
   "mimetype": "text/x-java-source",
   "name": "Java",
   "pygments_lexer": "java",
   "version": "11.0.10+9-LTS"
  }
 },
 "nbformat": 4,
 "nbformat_minor": 5
}
